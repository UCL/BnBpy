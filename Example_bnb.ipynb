{
  "nbformat": 4,
  "nbformat_minor": 0,
  "metadata": {
    "colab": {
      "name": "Example bnb",
      "provenance": [],
      "authorship_tag": "ABX9TyO2ZYhx/rrvv3dI5tTft7qf",
      "include_colab_link": true
    },
    "kernelspec": {
      "name": "python3",
      "display_name": "Python 3"
    }
  },
  "cells": [
    {
      "cell_type": "markdown",
      "metadata": {
        "id": "view-in-github",
        "colab_type": "text"
      },
      "source": [
        "<a href=\"https://colab.research.google.com/github/panos108/BnBpy/blob/master/Example_bnb.ipynb\" target=\"_parent\"><img src=\"https://colab.research.google.com/assets/colab-badge.svg\" alt=\"Open In Colab\"/></a>"
      ]
    },
    {
      "cell_type": "markdown",
      "metadata": {
        "id": "RdtIWZTafVE1",
        "colab_type": "text"
      },
      "source": [
        "First download the repo from Git"
      ]
    },
    {
      "cell_type": "code",
      "metadata": {
        "id": "Oi-y7CmLYJiS",
        "colab_type": "code",
        "colab": {
          "base_uri": "https://localhost:8080/",
          "height": 121
        },
        "outputId": "6529801e-1fa2-41b0-d864-d4fe9c4bfc05"
      },
      "source": [
        "! git clone https://github.com/panos108/BnBpy.git"
      ],
      "execution_count": null,
      "outputs": [
        {
          "output_type": "stream",
          "text": [
            "Cloning into 'BnBpy'...\n",
            "remote: Enumerating objects: 25, done.\u001b[K\n",
            "remote: Counting objects:   4% (1/25)\u001b[K\rremote: Counting objects:   8% (2/25)\u001b[K\rremote: Counting objects:  12% (3/25)\u001b[K\rremote: Counting objects:  16% (4/25)\u001b[K\rremote: Counting objects:  20% (5/25)\u001b[K\rremote: Counting objects:  24% (6/25)\u001b[K\rremote: Counting objects:  28% (7/25)\u001b[K\rremote: Counting objects:  32% (8/25)\u001b[K\rremote: Counting objects:  36% (9/25)\u001b[K\rremote: Counting objects:  40% (10/25)\u001b[K\rremote: Counting objects:  44% (11/25)\u001b[K\rremote: Counting objects:  48% (12/25)\u001b[K\rremote: Counting objects:  52% (13/25)\u001b[K\rremote: Counting objects:  56% (14/25)\u001b[K\rremote: Counting objects:  60% (15/25)\u001b[K\rremote: Counting objects:  64% (16/25)\u001b[K\rremote: Counting objects:  68% (17/25)\u001b[K\rremote: Counting objects:  72% (18/25)\u001b[K\rremote: Counting objects:  76% (19/25)\u001b[K\rremote: Counting objects:  80% (20/25)\u001b[K\rremote: Counting objects:  84% (21/25)\u001b[K\rremote: Counting objects:  88% (22/25)\u001b[K\rremote: Counting objects:  92% (23/25)\u001b[K\rremote: Counting objects:  96% (24/25)\u001b[K\rremote: Counting objects: 100% (25/25)\u001b[K\rremote: Counting objects: 100% (25/25), done.\u001b[K\n",
            "remote: Compressing objects:   4% (1/21)\u001b[K\rremote: Compressing objects:   9% (2/21)\u001b[K\rremote: Compressing objects:  14% (3/21)\u001b[K\rremote: Compressing objects:  19% (4/21)\u001b[K\rremote: Compressing objects:  23% (5/21)\u001b[K\rremote: Compressing objects:  28% (6/21)\u001b[K\rremote: Compressing objects:  33% (7/21)\u001b[K\rremote: Compressing objects:  38% (8/21)\u001b[K\rremote: Compressing objects:  42% (9/21)\u001b[K\rremote: Compressing objects:  47% (10/21)\u001b[K\rremote: Compressing objects:  52% (11/21)\u001b[K\rremote: Compressing objects:  57% (12/21)\u001b[K\rremote: Compressing objects:  61% (13/21)\u001b[K\rremote: Compressing objects:  66% (14/21)\u001b[K\rremote: Compressing objects:  71% (15/21)\u001b[K\rremote: Compressing objects:  76% (16/21)\u001b[K\rremote: Compressing objects:  80% (17/21)\u001b[K\rremote: Compressing objects:  85% (18/21)\u001b[K\rremote: Compressing objects:  90% (19/21)\u001b[K\rremote: Compressing objects:  95% (20/21)\u001b[K\rremote: Compressing objects: 100% (21/21)\u001b[K\rremote: Compressing objects: 100% (21/21), done.\u001b[K\n",
            "remote: Total 25 (delta 6), reused 11 (delta 2), pack-reused 0\u001b[K\n",
            "Unpacking objects:   4% (1/25)   \rUnpacking objects:   8% (2/25)   \rUnpacking objects:  12% (3/25)   \rUnpacking objects:  16% (4/25)   \rUnpacking objects:  20% (5/25)   \rUnpacking objects:  24% (6/25)   \rUnpacking objects:  28% (7/25)   \rUnpacking objects:  32% (8/25)   \rUnpacking objects:  36% (9/25)   \rUnpacking objects:  40% (10/25)   \rUnpacking objects:  44% (11/25)   \rUnpacking objects:  48% (12/25)   \rUnpacking objects:  52% (13/25)   \rUnpacking objects:  56% (14/25)   \rUnpacking objects:  60% (15/25)   \rUnpacking objects:  64% (16/25)   \rUnpacking objects:  68% (17/25)   \rUnpacking objects:  72% (18/25)   \rUnpacking objects:  76% (19/25)   \rUnpacking objects:  80% (20/25)   \rUnpacking objects:  84% (21/25)   \rUnpacking objects:  88% (22/25)   \rUnpacking objects:  92% (23/25)   \rUnpacking objects:  96% (24/25)   \rUnpacking objects: 100% (25/25)   \rUnpacking objects: 100% (25/25), done.\n"
          ],
          "name": "stdout"
        }
      ]
    },
    {
      "cell_type": "markdown",
      "metadata": {
        "id": "__th5WmkfUV9",
        "colab_type": "text"
      },
      "source": [
        "Load the library for branch and bound"
      ]
    },
    {
      "cell_type": "code",
      "metadata": {
        "id": "pbzh6n8cdn6v",
        "colab_type": "code",
        "colab": {}
      },
      "source": [
        "from BnBpy.BnB1 import BB"
      ],
      "execution_count": null,
      "outputs": []
    },
    {
      "cell_type": "markdown",
      "metadata": {
        "id": "-M_oo26xfiH8",
        "colab_type": "text"
      },
      "source": [
        "Next the Objective and the constraints need to be defined. Notice that all the variables are improted together.\n",
        "\n",
        "\n",
        "You can define the number of total variables and the number of integer variables. As N for total n_y for integer, (n_x the number of continuous variables).\n"
      ]
    },
    {
      "cell_type": "code",
      "metadata": {
        "id": "k6YxJfNQhvJg",
        "colab_type": "code",
        "colab": {}
      },
      "source": [
        "n_x = 1          # Number of continuous variables\n",
        "n_y = 3          # Number of integer variables\n",
        "N   = n_x + n_y  # Total number of variables"
      ],
      "execution_count": null,
      "outputs": []
    },
    {
      "cell_type": "markdown",
      "metadata": {
        "id": "Dz7MDp0Kh-ei",
        "colab_type": "text"
      },
      "source": [
        "Next the objective and constraints are defined. Remember that the first vars are the continuous. "
      ]
    },
    {
      "cell_type": "code",
      "metadata": {
        "id": "WxgxiTTVfK3Q",
        "colab_type": "code",
        "colab": {}
      },
      "source": [
        "def objective(vars):\n",
        "    return 2*vars[0] - 3*vars[1] - 2*vars[2] - 3*vars[3]\n",
        "\n",
        "def cons_f(vars):\n",
        "    g = np.zeros([2, 1]) # Number of constraints 2\n",
        "    g[0] = 2 - vars.sum()\n",
        "    g[1] = 10 * vars[0] + 5 * vars[1] + 3 * vars[2] + 4 * vars[3] - 10\n",
        "\n",
        "    return np.array(g).reshape((-1,))\n"
      ],
      "execution_count": null,
      "outputs": []
    },
    {
      "cell_type": "markdown",
      "metadata": {
        "id": "uX4fUhysfzAP",
        "colab_type": "text"
      },
      "source": [
        "Now you need to define the size of integers and total variables."
      ]
    },
    {
      "cell_type": "code",
      "metadata": {
        "id": "L991ICMUf7Bb",
        "colab_type": "code",
        "colab": {
          "base_uri": "https://localhost:8080/",
          "height": 399
        },
        "outputId": "f4851392-fcd2-446f-8de3-3dcf6222a8ad"
      },
      "source": [
        "import numpy as np\n",
        "np.random.seed(0)\n",
        "n_x = 1          # Number of continuous variables\n",
        "n_y = 3          # Number of integer variables\n",
        "N   = n_x + n_y  # Total number of variables\n",
        "\n",
        "# ----Define the bounds for the n_x vars-------- #\n",
        "lb = [0.] \n",
        "ub = [np.inf]\n",
        "# ---------------------------------------------- #\n",
        "\n",
        "OPT = BB(N=N, n_y=n_y, objective=objective, constraints=cons_f,  bounds=[lb, ub])\n",
        "\n",
        "\n",
        "bestres, bestnode = OPT.bbsolve()\n",
        "# bestres is the best objective\n",
        "# bestnode contains the best integer and continuous\n",
        "# bestnode.bool_vars ---- Best integer\n",
        "# bestnode.solution  ---- All vars\n",
        "print('The best integers found', bestnode.bool_vars)\n",
        "print('The vars found', bestnode.solution)"
      ],
      "execution_count": null,
      "outputs": [
        {
          "output_type": "stream",
          "text": [
            "[(-6.799999999997965, 49, <BnBpy.BnB1.BB object at 0x7fdd03cc4048>, ([0.0, 0.0, 0.0], [1.0, 1.0, 1.0]))]\n",
            "Heap Size:  1\n",
            "Result:  -6.799999999997965\n",
            "Heap Size:  2\n",
            "Result:  -5.999999999999954\n",
            "New Best-so-far found.\n",
            "Heap Size:  1\n",
            "Result:  -6.799999999999901\n",
            "Heap Size:  2\n",
            "Result:  -4.999999999999964\n",
            "Fathom Relaxed Problem: Relaxed larger than Best-so-far.\n",
            "Heap Size:  1\n",
            "Result:  -6.7999999999999305\n",
            "Heap Size:  2\n",
            "Result:  -4.999999999999991\n",
            "Fathom Relaxed Problem: Relaxed larger than Best-so-far.\n",
            "Heap Size:  1\n",
            "Result:  -7.999999999993707\n",
            "Fathom Relaxed Problem: Infeasible solution found(It may be numerical issue).\n",
            "Nodes searched:  7\n",
            "The best integers found [1. 0. 1.]\n",
            "The vars found [5.55111512e-15 1.00000000e+00 0.00000000e+00 1.00000000e+00]\n"
          ],
          "name": "stdout"
        }
      ]
    }
  ]
}